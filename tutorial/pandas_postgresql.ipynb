{
 "cells": [
  {
   "cell_type": "markdown",
   "metadata": {},
   "source": [
    "#### Install Dependency"
   ]
  },
  {
   "cell_type": "code",
   "execution_count": 24,
   "metadata": {},
   "outputs": [
    {
     "name": "stdout",
     "output_type": "stream",
     "text": [
      "Requirement already satisfied: sqlalchemy in /opt/anaconda3/lib/python3.8/site-packages (1.3.20)\n",
      "Requirement already satisfied: psycopg2-binary in /opt/anaconda3/lib/python3.8/site-packages (2.9.1)\n",
      "Requirement already satisfied: pandas in /opt/anaconda3/lib/python3.8/site-packages (1.1.3)\n",
      "Requirement already satisfied: python-dateutil>=2.7.3 in /opt/anaconda3/lib/python3.8/site-packages (from pandas) (2.8.1)\n",
      "Requirement already satisfied: pytz>=2017.2 in /opt/anaconda3/lib/python3.8/site-packages (from pandas) (2020.1)\n",
      "Requirement already satisfied: numpy>=1.15.4 in /opt/anaconda3/lib/python3.8/site-packages (from pandas) (1.19.2)\n",
      "Requirement already satisfied: six>=1.5 in /opt/anaconda3/lib/python3.8/site-packages (from python-dateutil>=2.7.3->pandas) (1.15.0)\n"
     ]
    }
   ],
   "source": [
    "!pip3 install sqlalchemy\n",
    "!pip3 install psycopg2-binary\n",
    "!pip3 install pandas"
   ]
  },
  {
   "cell_type": "markdown",
   "metadata": {},
   "source": [
    "#### Connect with PostgreSQL"
   ]
  },
  {
   "cell_type": "code",
   "execution_count": 25,
   "metadata": {},
   "outputs": [],
   "source": [
    "from sqlalchemy import create_engine\n",
    "from sqlalchemy.ext.declarative import declarative_base\n",
    "from sqlalchemy.orm import sessionmaker\n",
    "from sqlalchemy import MetaData\n",
    "import pandas as pd\n",
    "\n",
    "db_host = \"localhost\"\n",
    "db_name = \"pandas_db_connection\"\n",
    "db_pass = \"hello@1234\"\n",
    "db_user = \"rajeshkhadka\"\n",
    "\n",
    "engine = create_engine(f\"postgresql://{db_user}:{db_pass}@{db_host}/{db_name}\")\n",
    "Base = declarative_base()\n",
    "metadata = MetaData(engine)\n",
    "\n",
    "Session = sessionmaker(bind=engine)\n",
    "session = Session()"
   ]
  },
  {
   "cell_type": "markdown",
   "metadata": {},
   "source": [
    "#### Create User Model"
   ]
  },
  {
   "cell_type": "code",
   "execution_count": 26,
   "metadata": {},
   "outputs": [],
   "source": [
    "from sqlalchemy import Column, BigInteger, String\n",
    "\n",
    "class User(Base):\n",
    "    __tablename__ = \"users\"\n",
    "    __table_args__ = {'extend_existing': True} \n",
    "    id = Column(BigInteger, primary_key=True)\n",
    "    name = Column(String, nullable=False)\n",
    "    address = Column(String, nullable=False)\n",
    "    mobile = Column(BigInteger, nullable=False) \n",
    "    gender = Column(String, nullable=False)"
   ]
  },
  {
   "cell_type": "markdown",
   "metadata": {},
   "source": [
    "#### Create all tables"
   ]
  },
  {
   "cell_type": "code",
   "execution_count": 27,
   "metadata": {},
   "outputs": [],
   "source": [
    "Base.metadata.create_all(engine)"
   ]
  },
  {
   "cell_type": "markdown",
   "metadata": {},
   "source": [
    "#### Insert Dummy Data"
   ]
  },
  {
   "cell_type": "code",
   "execution_count": 28,
   "metadata": {},
   "outputs": [],
   "source": [
    "import random as r\n",
    "\n",
    "def generate_number():\n",
    "    numbers = []\n",
    "    for i in range(0,10):\n",
    "        numbers.append(str(r.randint(0, 9)))\n",
    "    return int(\"\".join(numbers))\n",
    "\n",
    "    \n",
    "def insert_users():\n",
    "    users = []\n",
    "    for i in range(1,100):\n",
    "        user = User()\n",
    "        user.id = r.randint(0,100000)\n",
    "        user.name = f\"User {i}\"\n",
    "        user.address = f\"Address {i}\"\n",
    "        user.mobile = generate_number()\n",
    "        user.gender = \"MALE\" if i%2==0 else \"FEMALE\"\n",
    "        users.append(user)\n",
    "    session.add_all(users)\n",
    "    session.commit()\n",
    "insert_users() "
   ]
  },
  {
   "cell_type": "markdown",
   "metadata": {},
   "source": [
    "#### Load SQL-Rows in Pandas DataFrame"
   ]
  },
  {
   "cell_type": "code",
   "execution_count": 29,
   "metadata": {},
   "outputs": [
    {
     "data": {
      "text/html": [
       "<div>\n",
       "<style scoped>\n",
       "    .dataframe tbody tr th:only-of-type {\n",
       "        vertical-align: middle;\n",
       "    }\n",
       "\n",
       "    .dataframe tbody tr th {\n",
       "        vertical-align: top;\n",
       "    }\n",
       "\n",
       "    .dataframe thead th {\n",
       "        text-align: right;\n",
       "    }\n",
       "</style>\n",
       "<table border=\"1\" class=\"dataframe\">\n",
       "  <thead>\n",
       "    <tr style=\"text-align: right;\">\n",
       "      <th></th>\n",
       "      <th>id</th>\n",
       "      <th>name</th>\n",
       "      <th>address</th>\n",
       "      <th>mobile</th>\n",
       "      <th>gender</th>\n",
       "    </tr>\n",
       "  </thead>\n",
       "  <tbody>\n",
       "    <tr>\n",
       "      <th>0</th>\n",
       "      <td>1</td>\n",
       "      <td>User 1</td>\n",
       "      <td>Address 1</td>\n",
       "      <td>419258673</td>\n",
       "      <td>FEMALE</td>\n",
       "    </tr>\n",
       "    <tr>\n",
       "      <th>1</th>\n",
       "      <td>2</td>\n",
       "      <td>User 2</td>\n",
       "      <td>Address 2</td>\n",
       "      <td>4559861054</td>\n",
       "      <td>MALE</td>\n",
       "    </tr>\n",
       "    <tr>\n",
       "      <th>2</th>\n",
       "      <td>3</td>\n",
       "      <td>User 3</td>\n",
       "      <td>Address 3</td>\n",
       "      <td>8063386964</td>\n",
       "      <td>FEMALE</td>\n",
       "    </tr>\n",
       "    <tr>\n",
       "      <th>3</th>\n",
       "      <td>4</td>\n",
       "      <td>User 4</td>\n",
       "      <td>Address 4</td>\n",
       "      <td>1336569558</td>\n",
       "      <td>MALE</td>\n",
       "    </tr>\n",
       "    <tr>\n",
       "      <th>4</th>\n",
       "      <td>5</td>\n",
       "      <td>User 5</td>\n",
       "      <td>Address 5</td>\n",
       "      <td>9839027096</td>\n",
       "      <td>FEMALE</td>\n",
       "    </tr>\n",
       "    <tr>\n",
       "      <th>...</th>\n",
       "      <td>...</td>\n",
       "      <td>...</td>\n",
       "      <td>...</td>\n",
       "      <td>...</td>\n",
       "      <td>...</td>\n",
       "    </tr>\n",
       "    <tr>\n",
       "      <th>391</th>\n",
       "      <td>57290</td>\n",
       "      <td>User 95</td>\n",
       "      <td>Address 95</td>\n",
       "      <td>9118740353</td>\n",
       "      <td>FEMALE</td>\n",
       "    </tr>\n",
       "    <tr>\n",
       "      <th>392</th>\n",
       "      <td>41394</td>\n",
       "      <td>User 96</td>\n",
       "      <td>Address 96</td>\n",
       "      <td>3062833592</td>\n",
       "      <td>MALE</td>\n",
       "    </tr>\n",
       "    <tr>\n",
       "      <th>393</th>\n",
       "      <td>14563</td>\n",
       "      <td>User 97</td>\n",
       "      <td>Address 97</td>\n",
       "      <td>4447742547</td>\n",
       "      <td>FEMALE</td>\n",
       "    </tr>\n",
       "    <tr>\n",
       "      <th>394</th>\n",
       "      <td>13330</td>\n",
       "      <td>User 98</td>\n",
       "      <td>Address 98</td>\n",
       "      <td>9789969224</td>\n",
       "      <td>MALE</td>\n",
       "    </tr>\n",
       "    <tr>\n",
       "      <th>395</th>\n",
       "      <td>16757</td>\n",
       "      <td>User 99</td>\n",
       "      <td>Address 99</td>\n",
       "      <td>6020208300</td>\n",
       "      <td>FEMALE</td>\n",
       "    </tr>\n",
       "  </tbody>\n",
       "</table>\n",
       "<p>396 rows × 5 columns</p>\n",
       "</div>"
      ],
      "text/plain": [
       "        id     name     address      mobile  gender\n",
       "0        1   User 1   Address 1   419258673  FEMALE\n",
       "1        2   User 2   Address 2  4559861054    MALE\n",
       "2        3   User 3   Address 3  8063386964  FEMALE\n",
       "3        4   User 4   Address 4  1336569558    MALE\n",
       "4        5   User 5   Address 5  9839027096  FEMALE\n",
       "..     ...      ...         ...         ...     ...\n",
       "391  57290  User 95  Address 95  9118740353  FEMALE\n",
       "392  41394  User 96  Address 96  3062833592    MALE\n",
       "393  14563  User 97  Address 97  4447742547  FEMALE\n",
       "394  13330  User 98  Address 98  9789969224    MALE\n",
       "395  16757  User 99  Address 99  6020208300  FEMALE\n",
       "\n",
       "[396 rows x 5 columns]"
      ]
     },
     "execution_count": 29,
     "metadata": {},
     "output_type": "execute_result"
    }
   ],
   "source": [
    "users_df = pd.read_sql('select * from users', con=engine)\n",
    "users_df"
   ]
  }
 ],
 "metadata": {
  "kernelspec": {
   "display_name": "Python 3",
   "language": "python",
   "name": "python3"
  },
  "language_info": {
   "codemirror_mode": {
    "name": "ipython",
    "version": 3
   },
   "file_extension": ".py",
   "mimetype": "text/x-python",
   "name": "python",
   "nbconvert_exporter": "python",
   "pygments_lexer": "ipython3",
   "version": "3.8.5"
  }
 },
 "nbformat": 4,
 "nbformat_minor": 4
}
